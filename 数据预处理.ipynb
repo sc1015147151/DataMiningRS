{
 "cells": [
  {
   "cell_type": "code",
   "execution_count": 4,
   "metadata": {},
   "outputs": [],
   "source": [
    "import gdal\n",
    "import cv2\n",
    "import numpy as np\n",
    "from keras.utils.np_utils import to_categorical  \n",
    "from sklearn.preprocessing import LabelEncoder\n",
    "from tqdm import tqdm"
   ]
  },
  {
   "cell_type": "code",
   "execution_count": 2,
   "metadata": {},
   "outputs": [],
   "source": [
    "def tif2csv(tif_name,tif_lab_name):\n",
    "    data1 = gdal.Open(tif_name)\n",
    "    le = LabelEncoder()#1.然后把标签类别转化成 0 1 2 3 4 5\n",
    "    le.fit([\"farmland\",\"built-up\",\"forest\",\"meadow\",\"water\",\"background\"])\n",
    "    label1 = gdal.Open(tif_lab_name)\n",
    "    im_width = data1.RasterXSize #栅格矩阵的列数\n",
    "    im_height = data1.RasterYSize #栅格矩阵的行数\n",
    "    tif1=data1.ReadAsArray(0,0,im_width,im_height)\n",
    "    lab1=label1.ReadAsArray(0,0,im_width,im_height)\n",
    "    lab1=(cv2.merge(lab1)).reshape(-1,3)#2.tif格式数据转化成scikit  learn能用的格式\n",
    "    tif1=(cv2.merge(tif1)).reshape(-1,4)\n",
    "    ls=list(lab1)\n",
    "    len(ls)\n",
    "    for i in tqdm(range(len(ls))):#3.将像素标签转化为字符标签\n",
    "        if (ls[i]==[0, 255,   0]).all():\n",
    "            ls[i]=\"farmland\"\n",
    "        elif (ls[i]==[255,    0,    0]).all():\n",
    "            ls[i]=\"built-up\"\n",
    "        elif (ls[i]==[0,    255,  255]).all():\n",
    "            ls[i]=\"forest\"\n",
    "        elif (ls[i]==[255, 255,     0]).all():\n",
    "            ls[i]=\"meadow\"\n",
    "        elif (ls[i]==[0,      0,  255]).all():\n",
    "            ls[i]=\"water\"\n",
    "        else:\n",
    "            ls[i]=\"background\"\n",
    "    ls=le.transform(ls)#4.同 1字符标签转数字\n",
    "    tif1=np.array_split(tif1 ,10)#5.将一副影像分为10份保存\n",
    "    ls= np.array_split(ls ,10)\n",
    "    for j in tqdm(range(10) ):\n",
    "        np.savetxt(tif_name+'part{}.csv'.format(j),tif1[j], fmt=\"%d\" )\n",
    "        np.savetxt(tif_lab_name+'part{}.csv'.format(j),ls[j], fmt=\"%d\")"
   ]
  },
  {
   "cell_type": "code",
   "execution_count": 3,
   "metadata": {},
   "outputs": [
    {
     "name": "stderr",
     "output_type": "stream",
     "text": [
      "100%|█████████████████████████████████████| 48960000/48960000 [10:11<00:00, 80105.85it/s]\n",
      "100%|████████████████████████████████████████████████████| 10/10 [02:44<00:00, 16.49s/it]\n"
     ]
    }
   ],
   "source": [
    "tif2csv(\"./GID_samples/GF2_PMS1__L1A0001680858-MSS1.tif\",\"./GID_samples/GF2_PMS1__L1A0001680858-MSS1_label.tif\")"
   ]
  },
  {
   "cell_type": "code",
   "execution_count": 4,
   "metadata": {},
   "outputs": [
    {
     "name": "stderr",
     "output_type": "stream",
     "text": [
      "100%|█████████████████████████████████████| 48960000/48960000 [09:51<00:00, 82827.26it/s]\n",
      "100%|████████████████████████████████████████████████████| 10/10 [02:54<00:00, 17.43s/it]\n"
     ]
    }
   ],
   "source": [
    "tif2csv(\"./GID_samples/GF2_PMS2__L1A0000607677-MSS2.tif\",\"./GID_samples/GF2_PMS2__L1A0000607677-MSS2_label.tif\")"
   ]
  },
  {
   "cell_type": "code",
   "execution_count": 5,
   "metadata": {},
   "outputs": [
    {
     "name": "stderr",
     "output_type": "stream",
     "text": [
      "100%|█████████████████████████████████████| 48960000/48960000 [09:44<00:00, 83833.50it/s]\n",
      "100%|████████████████████████████████████████████████████| 10/10 [03:22<00:00, 20.23s/it]\n"
     ]
    }
   ],
   "source": [
    "tif2csv(\"./GID_samples/GF2_PMS2__L1A0000607681-MSS2.tif\",\"./GID_samples/GF2_PMS2__L1A0000607681-MSS2_label.tif\")"
   ]
  },
  {
   "cell_type": "code",
   "execution_count": 8,
   "metadata": {},
   "outputs": [],
   "source": [
    "le = LabelEncoder()#1.然后把标签类别转化成 0 1 2 3 4 5\n",
    "num=le.fit_transform([\"farmland\",\"built-up\",\"forest\",\"meadow\",\"water\",\"background\"])"
   ]
  },
  {
   "cell_type": "code",
   "execution_count": 9,
   "metadata": {},
   "outputs": [
    {
     "data": {
      "text/plain": [
       "array([2, 1, 3, 4, 5, 0], dtype=int64)"
      ]
     },
     "execution_count": 9,
     "metadata": {},
     "output_type": "execute_result"
    }
   ],
   "source": [
    "num"
   ]
  },
  {
   "cell_type": "code",
   "execution_count": 10,
   "metadata": {},
   "outputs": [],
   "source": [
    "data1 = gdal.Open(\"./GID_samples/GF2_PMS1__L1A0001680858-MSS1.tif\")\n",
    "im_width = data1.RasterXSize #栅格矩阵的列数\n",
    "im_height = data1.RasterYSize #栅格矩阵的行数"
   ]
  },
  {
   "cell_type": "code",
   "execution_count": 11,
   "metadata": {},
   "outputs": [
    {
     "data": {
      "text/plain": [
       "7200"
      ]
     },
     "execution_count": 11,
     "metadata": {},
     "output_type": "execute_result"
    }
   ],
   "source": [
    "im_width"
   ]
  },
  {
   "cell_type": "code",
   "execution_count": 12,
   "metadata": {},
   "outputs": [
    {
     "data": {
      "text/plain": [
       "6800"
      ]
     },
     "execution_count": 12,
     "metadata": {},
     "output_type": "execute_result"
    }
   ],
   "source": [
    "im_height"
   ]
  },
  {
   "cell_type": "code",
   "execution_count": 14,
   "metadata": {},
   "outputs": [],
   "source": [
    "tif1=cv2.merge(data1.ReadAsArray(0,0,im_width,im_height))"
   ]
  },
  {
   "cell_type": "code",
   "execution_count": 19,
   "metadata": {},
   "outputs": [
    {
     "data": {
      "text/plain": [
       "(6800, 7200, 4)"
      ]
     },
     "execution_count": 19,
     "metadata": {},
     "output_type": "execute_result"
    }
   ],
   "source": [
    "np.array(tif1).shape"
   ]
  },
  {
   "cell_type": "code",
   "execution_count": 22,
   "metadata": {},
   "outputs": [
    {
     "data": {
      "text/plain": [
       "array([[[0., 0., 0.],\n",
       "        [0., 0., 0.],\n",
       "        [0., 0., 0.]],\n",
       "\n",
       "       [[0., 0., 0.],\n",
       "        [0., 0., 0.],\n",
       "        [0., 0., 0.]]])"
      ]
     },
     "execution_count": 22,
     "metadata": {},
     "output_type": "execute_result"
    }
   ],
   "source": [
    "np.zeros((2, 3,3))"
   ]
  },
  {
   "cell_type": "code",
   "execution_count": null,
   "metadata": {},
   "outputs": [],
   "source": []
  }
 ],
 "metadata": {
  "kernelspec": {
   "display_name": "Python 3",
   "language": "python",
   "name": "python3"
  },
  "language_info": {
   "codemirror_mode": {
    "name": "ipython",
    "version": 3
   },
   "file_extension": ".py",
   "mimetype": "text/x-python",
   "name": "python",
   "nbconvert_exporter": "python",
   "pygments_lexer": "ipython3",
   "version": "3.6.7"
  }
 },
 "nbformat": 4,
 "nbformat_minor": 2
}
